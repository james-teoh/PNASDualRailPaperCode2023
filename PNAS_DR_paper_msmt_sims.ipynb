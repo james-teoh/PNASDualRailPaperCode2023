{
 "cells": [
  {
   "cell_type": "markdown",
   "id": "068cb8d9",
   "metadata": {},
   "source": [
    "# Simulate and plot logical measurement of a dual-rail cavity qubit via repeated photon number parity measurements"
   ]
  },
  {
   "cell_type": "code",
   "execution_count": 1,
   "id": "64d3160e",
   "metadata": {},
   "outputs": [],
   "source": [
    "import qutip as qp\n",
    "import numpy as np\n",
    "import matplotlib.pyplot as plt\n",
    "import matplotlib as mpl\n",
    "import math\n",
    "mpl.rcParams['figure.facecolor'] = 'white' \n",
    "%matplotlib inline\n",
    "options = qp.Options()\n",
    "options.num_cpus = 3\n",
    "options.atol = 1e-12\n",
    "options.rtol = 1e-12\n",
    "options.tidy = True\n",
    "options.method = 'adams'"
   ]
  },
  {
   "cell_type": "code",
   "execution_count": 2,
   "id": "fd93ae61",
   "metadata": {},
   "outputs": [],
   "source": [
    "#units\n",
    "ms = 1e-3\n",
    "us = 1e-6\n",
    "ns = 1e-9\n",
    "\n",
    "MHz = 1e6\n",
    "kHz = 1e3\n",
    "twopi = 2*np.pi\n",
    "r2 = np.sqrt(2)"
   ]
  },
  {
   "cell_type": "markdown",
   "id": "173b82d1",
   "metadata": {},
   "source": [
    "### Define operators, tensor spaces, states"
   ]
  },
  {
   "cell_type": "code",
   "execution_count": 3,
   "id": "d8b958a3",
   "metadata": {},
   "outputs": [],
   "source": [
    "d = 3\n",
    "d_q = 2\n",
    "\n",
    "a = qp.destroy(d)\n",
    "q = qp.destroy(d_q)\n",
    "eye = qp.tensor(qp.qeye(d),qp.qeye(d),qp.qeye(d_q))\n",
    "\n",
    "a1 = qp.tensor(a,qp.qeye(d),qp.qeye(d_q))\n",
    "a2 = qp.tensor(qp.qeye(d),a,qp.qeye(d_q))\n",
    "q1 = qp.tensor(qp.qeye(d),qp.qeye(d),q)\n",
    "\n",
    "\n",
    "g = qp.fock(d_q,0)\n",
    "e = qp.fock(d_q,1)\n",
    "\n",
    "gpe = (g+e).unit()\n",
    "gme = (g-e).unit()\n",
    "SWAP_cav = (1j*np.pi/2.*(a1.dag()*a2+a1*a2.dag())).expm()\n",
    "\n",
    "Had = g*gpe.dag()+e*gme.dag()#+f_level*f_level.dag()\n",
    "Xge = qp.fock(d_q,0)*qp.fock(d_q,1).dag()+qp.fock(d_q,1)*qp.fock(d_q,0).dag()\n",
    "\n",
    "Had1 = qp.tensor(qp.qeye(d),qp.qeye(d),Had)\n",
    "\n",
    "ee1 = qp.tensor(qp.qeye(d),qp.qeye(d),qp.fock(d_q,1)*qp.fock(d_q,1).dag())\n",
    "\n",
    "eg1 = qp.tensor(qp.qeye(d),qp.qeye(d),qp.fock(d_q,0)*qp.fock(d_q,1).dag())\n",
    "\n",
    "CPS_pi = (1j*np.pi*a1.dag()*a1*ee1).expm()\n",
    "\n",
    "proj_g = qp.tensor(qp.qeye(d),qp.qeye(d),qp.fock(d_q,0)*qp.fock(d_q,0).dag())\n",
    "proj_e = qp.tensor(qp.qeye(d),qp.qeye(d),qp.fock(d_q,1)*qp.fock(d_q,1).dag())\n",
    "pi_flip = qp.tensor(qp.qeye(d),qp.qeye(d),qp.fock(d_q,0)*qp.fock(d_q,1).dag()+qp.fock(d_q,1)*qp.fock(d_q,0).dag())"
   ]
  },
  {
   "cell_type": "markdown",
   "id": "fbc3215e",
   "metadata": {},
   "source": [
    "### Hamiltonian parameters"
   ]
  },
  {
   "cell_type": "code",
   "execution_count": 4,
   "id": "a3ee85df",
   "metadata": {},
   "outputs": [],
   "source": [
    "chi1 = -2*twopi*MHz\n",
    "chi2 = chi1\n",
    "\n",
    "t_p = np.abs(np.pi/chi1)\n",
    "tlist_p = np.linspace(0,t_p,1001)\n",
    "H_disp = chi1*a1.dag()*a1*ee1"
   ]
  },
  {
   "cell_type": "markdown",
   "id": "d718dd30",
   "metadata": {},
   "source": [
    "### Define collapse operators: transmon decay, transmon dephasing, transmon heating, cavity decay, cavity dephasing, cavity heating"
   ]
  },
  {
   "cell_type": "code",
   "execution_count": 5,
   "id": "7b270480",
   "metadata": {},
   "outputs": [],
   "source": [
    "Tphi_q = 100*us\n",
    "T1_q = 100*us\n",
    "Theat_q = T1_q*100\n",
    "T1_c = 1000*us\n",
    "Theat_c = T1_c*100\n",
    "c_ops_qs = [np.sqrt(1/T1_q)*q1,np.sqrt(2/Tphi_q)*q1.dag()*q1,np.sqrt(1/Theat_q)*q1.dag()]\n",
    "\n",
    "\n",
    "c_ops_cs = [np.sqrt(1/T1_c)*a1,np.sqrt(1/T1_c)*a2,np.sqrt(Theat_c)*a1.dag(),np.sqrt(Theat_c)*a2.dag()]\n",
    "c_ops = c_ops_qs + c_ops_cs"
   ]
  },
  {
   "cell_type": "code",
   "execution_count": 41,
   "id": "33cd592b",
   "metadata": {},
   "outputs": [],
   "source": [
    "perfect_msmt = False #set whether we model errors during transmon readout, need to run code twice with this true and false to recreate the full plot"
   ]
  },
  {
   "cell_type": "code",
   "execution_count": 42,
   "id": "e8a37eb9",
   "metadata": {},
   "outputs": [],
   "source": [
    "def scramble_msmt(rho_in,p_d = 0,p_o = 0): #transmon readout error model: includes transmon decay during readout and overlap error\n",
    "    rho_g = (proj_g*rho_in*proj_g).ptrace((0,1))\n",
    "    rho_e = (proj_e*rho_in*proj_e).ptrace((0,1))\n",
    "    rho_Mg = qp.tensor((1-p_o)*rho_g+p_d/2.*rho_e,g*g.dag()) + qp.tensor(p_o*rho_e,e*e.dag())\n",
    "    rho_Me = qp.tensor((1-p_o-p_d)*rho_e,e*e.dag())+qp.tensor(p_o*rho_g+p_d/2.*rho_e,g*g.dag())\n",
    "    return rho_Mg, pi_flip*rho_Me*pi_flip #perfect conditional reset"
   ]
  },
  {
   "cell_type": "code",
   "execution_count": 43,
   "id": "5e107f77",
   "metadata": {},
   "outputs": [],
   "source": [
    "def gen_rho_outcomes(state_init,p_d,p_o):#sequence for a single parity msmt, swaps the cavity states and has a 1us delay too\n",
    "    rho_Had = Had1*state_init*Had1.dag()\n",
    "    res1 = qp.mesolve(H_disp,rho_Had,tlist_p,c_ops = c_ops, options = options)\n",
    "    rho1_ = SWAP_cav*Had1*res1.states[-1]*Had1.dag()*SWAP_cav.dag()\n",
    "    if not perfect_msmt:\n",
    "        res1_wait  = qp.mesolve(H_disp-H_disp,rho1_,tlist = np.linspace(0,1*us,101), c_ops = c_ops_cs, options = options)\n",
    "        rho1 = res1_wait.states[-1]\n",
    "    else:\n",
    "        rho1 = rho1_\n",
    "    rho_Mg1, rho_Me1 = scramble_msmt(rho1,p_d,p_o)\n",
    "    return rho_Mg1, rho_Me1\n",
    "\n",
    "def get_rhos(state_init,p_d,p_o):\n",
    "    if state_init.type == 'ket':\n",
    "        state_init = qp.ket2dm(state_init)\n",
    "    #1st parity msmt\n",
    "    rho_Mg1, rho_Me1 = gen_rho_outcomes(state_init,p_d,p_o)\n",
    "    #2nd parity msmt\n",
    "    #if first outcome g\n",
    "    rho_Mgg, rho_Mge = gen_rho_outcomes(rho_Mg1,p_d,p_o)\n",
    "    #if first outcome e\n",
    "    rho_Meg, rho_Mee = gen_rho_outcomes(rho_Me1,p_d,p_o)\n",
    "    return rho_Mgg,rho_Mge,rho_Meg,rho_Mee\n",
    "\n",
    "def get_probs(state_init,p_d,p_o):\n",
    "    rho_Mgg,rho_Mge,rho_Meg,rho_Mee = get_rhos(state_init,p_d,p_o)\n",
    "    return rho_Mgg.tr(),rho_Mge.tr(),rho_Meg.tr(),rho_Mee.tr()\n",
    "    \n",
    "    "
   ]
  },
  {
   "cell_type": "markdown",
   "id": "be140f39",
   "metadata": {},
   "source": [
    "# Test for one msmt round (parity msmt + transmon readout) x2 for each cavity"
   ]
  },
  {
   "cell_type": "code",
   "execution_count": 44,
   "id": "21257800",
   "metadata": {},
   "outputs": [],
   "source": [
    "psi_init = qp.tensor(qp.fock(d,1),qp.fock(d,0),g)\n",
    "rho_Mgg,rho_Mge,rho_Meg,rho_Mee = get_rhos(psi_init, p_d = 0.01, p_o = 1e-4)"
   ]
  },
  {
   "cell_type": "code",
   "execution_count": 45,
   "id": "1cf03e1e",
   "metadata": {},
   "outputs": [
    {
     "name": "stdout",
     "output_type": "stream",
     "text": [
      "p_gg: 0.0069789850495877255\n",
      "p_ge: 0.00011286533459096542\n",
      "p_eg: 0.9860084238575754\n",
      "p_ee: 0.006899725754860283\n"
     ]
    }
   ],
   "source": [
    "print('p_gg:',rho_Mgg.tr())\n",
    "print('p_ge:',rho_Mge.tr())\n",
    "print('p_eg:',rho_Meg.tr())\n",
    "print('p_ee:',rho_Mee.tr())"
   ]
  },
  {
   "cell_type": "markdown",
   "id": "062b60b3",
   "metadata": {},
   "source": [
    "# Define functions for simulating 1 or 2 Rounds of DR logical msmt"
   ]
  },
  {
   "cell_type": "code",
   "execution_count": 46,
   "id": "187cf9ed",
   "metadata": {},
   "outputs": [],
   "source": [
    "def get_1R_vals(psi_init,p_d,p_o):\n",
    "    rho_gg,rho_ge,rho_eg,rho_ee = get_rhos(psi_init,p_d,p_o) \n",
    "    p_gg = (rho_gg).tr()\n",
    "    p_ge = (rho_ge).tr()\n",
    "    p_ee = (rho_ee).tr()\n",
    "    p_eg = (rho_eg).tr()\n",
    "    return np.array([p_ge,p_eg,p_gg+p_ee])\n",
    "\n",
    "def get_2R_vals(state_init, p_d, p_o):    \n",
    "    rho_gg,rho_ge,rho_eg,rho_ee = get_rhos(state_init, p_d, p_o)\n",
    "    p_gg, p_ge, p_eg, p_ee = get_probs(state_init, p_d, p_o)\n",
    "    p_gggg, p_ggge, p_ggeg, p_ggee   = get_probs(rho_gg, p_d, p_o)\n",
    "    p_eegg, p_eege, p_eeeg, p_eeee   = get_probs(rho_ee, p_d, p_o)    \n",
    "    p_gegg, p_gege, p_geeg, p_geee   = get_probs(rho_ge, p_d, p_o)\n",
    "    p_eggg, p_egge, p_egeg, p_egee   = get_probs(rho_eg, p_d, p_o)\n",
    "    return np.array([p_ge+p_ggge+p_eege,p_eg+p_ggeg+p_eeeg,(1-(p_ge+p_ggge+p_eege+p_eg+p_ggeg+p_eeeg))])\n",
    "\n",
    "def get_2R_vals_strict(state_init, p_d, p_o):\n",
    "    rho_gg,rho_ge,rho_eg,rho_ee = get_rhos(state_init, p_d, p_o)\n",
    "    p_gg, p_ge, p_eg, p_ee = get_probs(state_init, p_d, p_o)\n",
    "    p_gggg, p_ggge, p_ggeg, p_ggee   = get_probs(rho_gg, p_d, p_o)\n",
    "    p_eegg, p_eege, p_eeeg, p_eeee   = get_probs(rho_ee, p_d, p_o)    \n",
    "    p_gegg, p_gege, p_geeg, p_geee   = get_probs(rho_ge, p_d, p_o)\n",
    "    p_eggg, p_egge, p_egeg, p_egee   = get_probs(rho_eg, p_d, p_o)\n",
    "    return np.array([p_gege,p_egeg,(1-(p_gege+p_egeg))])"
   ]
  },
  {
   "cell_type": "markdown",
   "id": "877dd44f",
   "metadata": {},
   "source": [
    "# Define function for simulating 3 rounds of msmt"
   ]
  },
  {
   "cell_type": "code",
   "execution_count": 47,
   "id": "e02ee74c",
   "metadata": {},
   "outputs": [],
   "source": [
    "def get_string_prob(string,rho_listss):\n",
    "    if string[0:2] == 'gg':\n",
    "        idx1 = 0\n",
    "    if string[0:2] == 'eg':\n",
    "        idx1 = 1\n",
    "    if string[0:2] == 'ge':\n",
    "        idx1 = 2\n",
    "    if string[0:2] == 'ee':\n",
    "        idx1 = 3\n",
    "        \n",
    "    if string[2:4] == 'gg':\n",
    "        idx2 = 0\n",
    "    if string[2:4] == 'eg':\n",
    "        idx2 = 1\n",
    "    if string[2:4] == 'ge':\n",
    "        idx2 = 2\n",
    "    if string[2:4] == 'ee':\n",
    "        idx2 = 3\n",
    "        \n",
    "    if string[4:6] == 'gg':\n",
    "        idx3 = 0\n",
    "    if string[4:6] == 'eg':\n",
    "        idx3 = 1\n",
    "    if string[4:6] == 'ge':\n",
    "        idx3 = 2\n",
    "    if string[4:6] == 'ee':\n",
    "        idx3 = 3\n",
    "        \n",
    "    return rho_listss[idx1][idx2][idx3].tr()\n",
    "\n",
    "def get_strings_prob(string_list,rho_listss):\n",
    "    ptot = 0\n",
    "    for string in string_list:\n",
    "        ptot+=get_string_prob(string,rho_listss)\n",
    "    return ptot\n",
    "        \n",
    "def invert_string(string):\n",
    "    intermediate = string.replace('g','0').replace('e','1')\n",
    "    final = intermediate.replace('0','e').replace('1','g')\n",
    "    return final\n",
    "def invert_strings(string_list):\n",
    "    temp_list = []\n",
    "    for string in string_list:\n",
    "        temp_list.append(invert_string(string))\n",
    "    return temp_list\n",
    "\n",
    "#sorted possible msmt outcome strings\n",
    "perfect_10 = ['egegeg']\n",
    "error_1_10 = ['ggegeg','egggeg','egeggg','eeegeg','egeeeg','egegee']\n",
    "error_2_10 = ['geegeg','ggeeeg','ggegee','eeggeg','eggeeg','egggee','eeeggg','egeegg','egegge']\n",
    "all_10 = perfect_10+error_1_10+error_2_10\n",
    "all_01 = invert_strings(all_10)\n",
    "\n",
    "def get_3R_vals(psi_init, p_d,p_o):\n",
    "    #layer 1\n",
    "    print('3R Round 1')\n",
    "    rho_list1 = get_rhos(psi_init,p_d,p_o)\n",
    "    #layer2\n",
    "    rho_lists_2 = []\n",
    "    print('3R Round 2')\n",
    "    for rho in rho_list1:\n",
    "        rho_list2 = get_rhos(rho,p_d,p_o)\n",
    "        rho_lists_2.append(rho_list2)\n",
    "    #layer3\n",
    "    print('3R Round 3')\n",
    "    rho_listss_3 = []\n",
    "    for rho_list in rho_lists_2:\n",
    "        rho_lists_3 = []\n",
    "        for rho in rho_list:\n",
    "            rho_list3 = get_rhos(rho,p_d,p_o)\n",
    "            rho_lists_3.append(rho_list3)\n",
    "        rho_listss_3.append(rho_lists_3)\n",
    "    #prob 10 declared\n",
    "    p_10 = get_strings_prob(all_10,rho_listss_3)\n",
    "    #prob 01 declared\n",
    "    p_01 = get_strings_prob(all_01,rho_listss_3)\n",
    "    return([p_10,p_01,(1-p_10-p_01)])"
   ]
  },
  {
   "cell_type": "code",
   "execution_count": 48,
   "id": "4ee662fc",
   "metadata": {},
   "outputs": [],
   "source": [
    "def get_mat(val_func,kwargs): #decoded logical msmt outcomes stored as matrix for the 3 possible input states: |10>, |01> and |00> \n",
    "    psi_10 = qp.tensor(qp.fock(d,1),qp.fock(d,0),g)\n",
    "    psi_01 = qp.tensor(qp.fock(d,0),qp.fock(d,1),g)\n",
    "    psi_00 = qp.tensor(qp.fock(d,0),qp.fock(d,0),g)\n",
    "    row10 = val_func(psi_10,**kwargs)\n",
    "    row01 = val_func(psi_01,**kwargs)\n",
    "    row00 = val_func(psi_00,**kwargs)\n",
    "    return np.array([row01,row10,row00])"
   ]
  },
  {
   "cell_type": "markdown",
   "id": "c80f42fa",
   "metadata": {},
   "source": [
    "# Generate data"
   ]
  },
  {
   "cell_type": "code",
   "execution_count": 49,
   "id": "3bab81fc",
   "metadata": {},
   "outputs": [],
   "source": [
    "# set readout errors\n",
    "if perfect_msmt:\n",
    "    p_d = 0\n",
    "    p_o = 0\n",
    "else:\n",
    "    p_d = 0.01\n",
    "    p_o = 1e-4\n",
    "    \n",
    "p_erasure = 0.01 #probability input state is |00> (probability of |10> is (1-p_erasure)/2 etc.)\n"
   ]
  },
  {
   "cell_type": "code",
   "execution_count": 50,
   "id": "2097a1d3",
   "metadata": {},
   "outputs": [
    {
     "name": "stdout",
     "output_type": "stream",
     "text": [
      "1 round msmt matrix\n",
      "[[9.89718245e-01 1.24320871e-04 1.01574339e-02]\n",
      " [1.12865335e-04 9.86008424e-01 1.38787108e-02]\n",
      " [1.96440039e-03 1.85586541e-03 9.96179734e-01]]\n"
     ]
    }
   ],
   "source": [
    "#1 Round\n",
    "mat_1R = get_mat(get_1R_vals,{'p_d':p_d, 'p_o':p_o})\n",
    "print('1 round msmt matrix')\n",
    "print(mat_1R)"
   ]
  },
  {
   "cell_type": "code",
   "execution_count": 51,
   "id": "f5f0f70e",
   "metadata": {},
   "outputs": [
    {
     "name": "stdout",
     "output_type": "stream",
     "text": [
      "2 round msmt matrix\n",
      "[[9.98302380e-01 1.29514506e-04 1.56810504e-03]\n",
      " [1.14969402e-04 9.99408080e-01 4.76950877e-04]\n",
      " [3.92140585e-03 3.70579421e-03 9.92372800e-01]]\n",
      "2 round msmt matrix (strict decoding)\n",
      "[[9.73556293e-01 2.27647539e-08 2.64436842e-02]\n",
      " [1.59832333e-08 9.69909221e-01 3.00907626e-02]\n",
      " [3.79098807e-06 3.46782374e-06 9.99992741e-01]]\n"
     ]
    }
   ],
   "source": [
    "#2 Round\n",
    "mat_2R = get_mat(get_2R_vals,{'p_d':p_d, 'p_o':p_o})\n",
    "print('2 round msmt matrix')\n",
    "print(mat_2R)\n",
    "mat_2R_s = get_mat(get_2R_vals_strict,{'p_d':p_d, 'p_o':p_o})\n",
    "print('2 round msmt matrix (strict decoding)')\n",
    "print(mat_2R_s)"
   ]
  },
  {
   "cell_type": "code",
   "execution_count": 52,
   "id": "18b72686",
   "metadata": {},
   "outputs": [
    {
     "name": "stdout",
     "output_type": "stream",
     "text": [
      "3R Round 1\n",
      "3R Round 2\n",
      "3R Round 3\n",
      "3R Round 1\n",
      "3R Round 2\n",
      "3R Round 3\n",
      "3R Round 1\n",
      "3R Round 2\n",
      "3R Round 3\n",
      "[[9.95881897e-01 2.27056754e-07 4.11787550e-03]\n",
      " [2.21960605e-07 9.97059629e-01 2.94014927e-03]\n",
      " [1.42864622e-05 1.37099928e-05 9.99972004e-01]]\n",
      "3 round msmt matrix (majority vote decoding)\n"
     ]
    }
   ],
   "source": [
    "mat_3R = get_mat(get_3R_vals,{'p_d':p_d, 'p_o':p_o})\n",
    "print(mat_3R)\n",
    "print('3 round msmt matrix (majority vote decoding)')"
   ]
  },
  {
   "cell_type": "code",
   "execution_count": 53,
   "id": "7a39c07b",
   "metadata": {},
   "outputs": [],
   "source": [
    "def get_erasure_prob(mat,p_erasure):    \n",
    "    return (1-p_erasure)/2.*(mat[0][2]+mat[1][2]) + p_erasure*mat[2][2]\n",
    "def get_pauli_prob(mat,p_erasure):    \n",
    "    return (1-p_erasure)/2.*(mat[0][1]+mat[1][0]) + p_erasure*(mat[2][0]+mat[2][1])"
   ]
  },
  {
   "cell_type": "code",
   "execution_count": 54,
   "id": "d24b6a1f",
   "metadata": {},
   "outputs": [],
   "source": [
    "#p_erasure_R = probability erasure declared in the msmt outcome\n",
    "#p_pauli_R = probability we assign the opposite logical state e.g. assign |10> when input was |01> and vice versa\n",
    "p_erase_1R = get_erasure_prob(mat_1R,p_erasure)\n",
    "p_erase_2R = get_erasure_prob(mat_2R,p_erasure)\n",
    "p_erase_2R_s = get_erasure_prob(mat_2R_s,p_erasure)\n",
    "p_erase_3R = get_erasure_prob(mat_3R,p_erasure)\n",
    "\n",
    "p_pauli_1R = get_pauli_prob(mat_1R,p_erasure)\n",
    "p_pauli_2R = get_pauli_prob(mat_2R,p_erasure)\n",
    "p_pauli_2R_s = get_pauli_prob(mat_2R_s,p_erasure)\n",
    "p_pauli_3R = get_pauli_prob(mat_3R,p_erasure)"
   ]
  },
  {
   "cell_type": "code",
   "execution_count": 55,
   "id": "762e04d0",
   "metadata": {},
   "outputs": [],
   "source": [
    "p_paulis = [p_pauli_1R,p_pauli_2R,p_pauli_2R_s,p_pauli_3R]\n",
    "p_erases = [p_erase_1R,p_erase_2R,p_erase_2R_s,p_erase_3R]"
   ]
  },
  {
   "cell_type": "code",
   "execution_count": 56,
   "id": "f66009fd",
   "metadata": {},
   "outputs": [],
   "source": [
    "#gen data with perfect_msmt = True, then store it here\n",
    "if perfect_msmt:\n",
    "    print('setting perfect msmt vals')\n",
    "    no_RO_error_1R = [p_erase_1R-p_erasure, p_pauli_1R]\n",
    "    no_RO_error_2R = [p_erase_2R-p_erasure, p_pauli_2R]\n",
    "    no_RO_error_2R_s = [p_erase_2R_s-p_erasure, p_pauli_2R_s]\n",
    "    no_RO_error_3R = [p_erase_3R-p_erasure, p_pauli_3R]"
   ]
  },
  {
   "cell_type": "code",
   "execution_count": 57,
   "id": "33dd6053",
   "metadata": {},
   "outputs": [
    {
     "data": {
      "text/plain": [
       "<matplotlib.legend.Legend at 0x1bc68e84c70>"
      ]
     },
     "execution_count": 57,
     "metadata": {},
     "output_type": "execute_result"
    },
    {
     "data": {
      "image/png": "[encoded data removed]",
      "text/plain": [
       "<Figure size 600x600 with 1 Axes>"
      ]
     },
     "metadata": {
      "needs_background": "light"
     },
     "output_type": "display_data"
    }
   ],
   "source": [
    "#plotting additional erasure error,\n",
    "fig, ax = plt.subplots(dpi = 200, figsize = (3,3))\n",
    "x_axis_labes = ['erasure','pauli error']\n",
    "xs = np.array([0,1])\n",
    "width = 0.15\n",
    "bar_spacing = 0.2\n",
    "ax.grid(alpha = 0.5,axis = 'y', zorder = 0)\n",
    "ax.bar(xs-1.5*bar_spacing,[p_erase_1R-p_erasure,p_pauli_1R],width = width,label = '1 Round', zorder = 3) #plotting the additional erasure prob\n",
    "ax.bar(xs-0.5*bar_spacing,[p_erase_2R-p_erasure,p_pauli_2R],width = width, label = '2 Rounds (less erasure) ', zorder = 3)\n",
    "ax.bar(xs+0.5*bar_spacing,[p_erase_2R_s-p_erasure,p_pauli_2R_s],width = width, label = '2 Rounds (strict)', zorder = 3)\n",
    "ax.bar(xs+1.5*bar_spacing,[p_erase_3R-p_erasure,p_pauli_3R],width = width, label = '3 Rounds majority vote', zorder = 3)\n",
    "ax.set_yscale('log')\n",
    "ax.set_ylabel('Declared outcome probability')\n",
    "ax.set_yticks([1e-8,1e-7,1e-6,1e-5,1e-4,1e-3,1e-2,1e-1])\n",
    "ax.set_ylim(1e-8,1e-1)\n",
    "ax.set_xticks([0,1])\n",
    "ax.set_xticklabels(['Additional erasure','Pauli error'])\n",
    "\n",
    "#gen data with perfect_msmt = True to plot the following\n",
    "try:\n",
    "    overhang = 0.01\n",
    "    ax.axhline(y = no_RO_error_1R[0],xmin = 0.0454545-overhang, xmax = 0.12337+overhang, ls = '-',color = 'k', alpha = 0.5, zorder = 4)\n",
    "    ax.axhline(y = no_RO_error_2R[0],xmin = 0.149350-overhang, xmax = 0.2272727+overhang, ls = '-',color = 'k', alpha = 0.5, zorder = 4)\n",
    "    ax.axhline(y = no_RO_error_2R_s[0],xmin = 0.253246-overhang, xmax =0.331168+overhang, ls = '-',color = 'k', alpha = 0.5, zorder = 4)\n",
    "    ax.axhline(y = no_RO_error_3R[0],xmin = 0.357142-overhang, xmax = 0.435064+overhang, ls = '-',color = 'k', alpha = 0.5, zorder = 4)\n",
    "    ax.axhline(y = no_RO_error_1R[1],xmin = 0.0454545+0.519480-overhang, xmax = 0.12337+0.519480+overhang, ls = '-',color = 'k', alpha = 0.5, zorder = 4)\n",
    "    ax.axhline(y = no_RO_error_2R[1],xmin =0.149350+0.519480-overhang, xmax = 0.22727+0.519480+overhang, ls = '-',color = 'k', alpha = 0.5, zorder = 4)\n",
    "    ax.axhline(y = no_RO_error_2R_s[1],xmin = 0.253246+0.519480-overhang, xmax = 0.33116+0.519480+overhang, ls = '-',color = 'k', alpha = 0.5, zorder = 4)\n",
    "    ax.axhline(y = no_RO_error_3R[1],xmin = 0.357142+0.519480-overhang, xmax = 0.435064+0.519480+overhang, ls = '-',color = 'k', alpha = 0.5, zorder = 4)\n",
    "except:\n",
    "    print('no data with perfect_msmt found')\n",
    "\n",
    "ax.legend(bbox_to_anchor=(1.1, 1.05))"
   ]
  },
  {
   "cell_type": "code",
   "execution_count": 58,
   "id": "4717130e",
   "metadata": {},
   "outputs": [
    {
     "data": {
      "text/plain": [
       "<matplotlib.legend.Legend at 0x1bc695458b0>"
      ]
     },
     "execution_count": 58,
     "metadata": {},
     "output_type": "execute_result"
    },
    {
     "data": {
      "image/png": "[encoded data removed]",
      "text/plain": [
       "<Figure size 600x600 with 1 Axes>"
      ]
     },
     "metadata": {
      "needs_background": "light"
     },
     "output_type": "display_data"
    }
   ],
   "source": [
    "#plot for 1 round and 3 round only\n",
    "fig, ax = plt.subplots(dpi = 200, figsize = (3,3))\n",
    "x_axis_labes = ['additional erasure','pauli error']\n",
    "xs = np.array([0,1])\n",
    "width = 0.3\n",
    "bar_scaling = 0.6\n",
    "ax.grid(alpha = 0.5,axis = 'y', zorder = 0)\n",
    "ax.bar(xs-width*bar_scaling,[p_erase_1R-p_erasure,p_pauli_1R],width = width,label = '1 Round', zorder = 3)\n",
    "ax.bar(xs+width*bar_scaling,[p_erase_3R-p_erasure,p_pauli_3R],width = width, label = '3 Rounds', zorder = 3)\n",
    "ax.set_yscale('log')\n",
    "ax.set_ylim(1e-8,1e-1)\n",
    "ax.set_ylabel('Declared outcome probability')\n",
    "ax.set_xticks(xs)\n",
    "ax.set_yticks([1e-8,1e-7,1e-6,1e-5,1e-4,1e-3,1e-2,1e-1])\n",
    "ax.set_xticklabels([' ',' '])\n",
    "ax.axhline(p_erasure,ls = '--', color = 'k', alpha = 0.5, zorder = 4)\n",
    "ax.set_xticks([0,1])\n",
    "ax.set_xticklabels(['Additional erasure','Pauli error'])\n",
    "ax.legend()"
   ]
  },
  {
   "cell_type": "code",
   "execution_count": null,
   "id": "59b13557",
   "metadata": {},
   "outputs": [],
   "source": []
  }
 ],
 "metadata": {
  "kernelspec": {
   "display_name": "Python 3",
   "language": "python",
   "name": "python3"
  },
  "language_info": {
   "codemirror_mode": {
    "name": "ipython",
    "version": 3
   },
   "file_extension": ".py",
   "mimetype": "text/x-python",
   "name": "python",
   "nbconvert_exporter": "python",
   "pygments_lexer": "ipython3",
   "version": "3.8.8"
  }
 },
 "nbformat": 4,
 "nbformat_minor": 5
}
